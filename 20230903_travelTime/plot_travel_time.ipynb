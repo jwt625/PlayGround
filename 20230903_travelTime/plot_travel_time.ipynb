{
 "cells": [
  {
   "cell_type": "code",
   "execution_count": 1,
   "id": "d07bb912",
   "metadata": {},
   "outputs": [],
   "source": [
    "\n",
    "import pandas as pd\n",
    "file_path = 'loc.csv'\n",
    "df = pd.read_csv(file_path, header=None, names=['lat', 'lng'])\n",
    "\n",
    "#%% plot\n",
    "\n",
    "from ipyleaflet import *\n",
    "import random\n",
    "\n",
    "m = Map(center=(df.lat[0],df.lng[0]), zoom=10, scroll_wheel_zoom=True)\n",
    "m.add_control(FullScreenControl())\n",
    "\n",
    "# %%\n",
    "def random_color(feature):\n",
    "    return {\n",
    "        'color': 'black',\n",
    "        'fillColor': random.choice(['red', 'yellow', 'green', 'orange']),\n",
    "    }\n",
    "\n",
    "icon_house = AwesomeIcon(name='home', marker_color='green')\n",
    "\n",
    "t_drive=3600\n",
    "for ii in range(len(df.lat)):\n",
    "    \n",
    "    with open(f'{t_drive}_{ii}.geojson', 'r') as json_file:\n",
    "        data = json.load(json_file)\n",
    "    geo_json = GeoJSON(\n",
    "        data=data,\n",
    "        style={\n",
    "            'opacity': 1, 'dashArray': '9', 'fillOpacity': 0.2, 'weight': 1\n",
    "        },\n",
    "        hover_style={\n",
    "            'color': 'white', 'dashArray': '0', 'fillOpacity': 0.5\n",
    "        },\n",
    "        style_callback=random_color\n",
    "    )\n",
    "    m.add_layer(geo_json)\n",
    "\n",
    "\n",
    "    marker = Marker(location=(df.lat[ii], df.lng[ii]), draggable=False, icon=icon_house)\n",
    "    m.add_layer(marker)\n",
    "\n",
    "# add lakes\n",
    "icon_lake = AwesomeIcon(name='fa-tint')\n",
    "file_path = 'lakes.csv'\n",
    "df_lakes = pd.read_csv(file_path, header=None, names=['lat', 'lng', 'name'])\n",
    "for ii in range(len(df_lakes.lat)):\n",
    "    marker = Marker(location=(df_lakes.lat[ii], df_lakes.lng[ii]), \n",
    "        draggable=False, icon=icon_lake, name=df_lakes.name[ii])\n",
    "    m.add_layer(marker)\n",
    "\n"
   ]
  },
  {
   "cell_type": "code",
   "execution_count": 2,
   "id": "5f3dc559",
   "metadata": {
    "scrolled": true
   },
   "outputs": [
    {
     "data": {
      "application/vnd.jupyter.widget-view+json": {
       "model_id": "2ad710fdc4104c5aaa8423d995698b93",
       "version_major": 2,
       "version_minor": 0
      },
      "text/plain": [
       "Map(center=[37.61739, -122.44013], controls=(ZoomControl(options=['position', 'zoom_in_text', 'zoom_in_title',…"
      ]
     },
     "execution_count": 2,
     "metadata": {},
     "output_type": "execute_result"
    }
   ],
   "source": [
    "m"
   ]
  },
  {
   "cell_type": "code",
   "execution_count": null,
   "id": "007250eb",
   "metadata": {},
   "outputs": [],
   "source": []
  }
 ],
 "metadata": {
  "kernelspec": {
   "display_name": "Python 3 (ipykernel)",
   "language": "python",
   "name": "python3"
  },
  "language_info": {
   "codemirror_mode": {
    "name": "ipython",
    "version": 3
   },
   "file_extension": ".py",
   "mimetype": "text/x-python",
   "name": "python",
   "nbconvert_exporter": "python",
   "pygments_lexer": "ipython3",
   "version": "3.11.4"
  }
 },
 "nbformat": 4,
 "nbformat_minor": 5
}
